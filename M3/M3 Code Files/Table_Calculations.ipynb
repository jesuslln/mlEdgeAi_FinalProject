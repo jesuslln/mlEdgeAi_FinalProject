{
 "cells": [
  {
   "cell_type": "code",
   "execution_count": 1,
   "id": "4b3923ad",
   "metadata": {},
   "outputs": [],
   "source": [
    "import pandas as pd\n",
    "import matplotlib.pyplot as plt\n",
    "import numpy as np"
   ]
  },
  {
   "cell_type": "code",
   "execution_count": 3,
   "id": "fe8ea268",
   "metadata": {},
   "outputs": [],
   "source": [
    "# import all exploration readings\n",
    "\n",
    "mobilenet_data_1 = pd.read_csv(\"M3 Code Files/RPi Readings/mobilenet_readings_0.1.csv\", index_col=0)\n",
    "mobilenet_data_1128 = pd.read_csv(\"M3 Code Files/RPi Readings/mobilenet_readings_0.1_batch128.csv\", index_col=0)\n",
    "mobilenet_data_1512 = pd.read_csv(\"M3 Code Files/RPi Readings/mobilenet_readings_0.1_batch512.csv\", index_col=0)\n",
    "mobilenet_data_2 = pd.read_csv(\"M3 Code Files/RPi Readings/mobilenet_readings_0.2.csv\", index_col=0)\n",
    "mobilenet_data_2128 = pd.read_csv(\"M3 Code Files/RPi Readings/mobilenet_readings_0.2_batch128.csv\", index_col=0)\n",
    "mobilenet_data_2512 = pd.read_csv(\"M3 Code Files/RPi Readings/mobilenet_readings_0.2_batch512.csv\", index_col=0)"
   ]
  },
  {
   "cell_type": "code",
   "execution_count": 7,
   "id": "3f4b522b",
   "metadata": {},
   "outputs": [
    {
     "name": "stdout",
     "output_type": "stream",
     "text": [
      "Average Energy Consumption for MBN_V1, pruning_fraction = 0.1:  42.760299999999994 mJ\n",
      "Average Energy Consumption for MBN_V1, pruning_fraction = 0.1, batchsize = 128:  42.43106 mJ\n",
      "Average Energy Consumption for MBN_V1, pruning_fraction = 0.1, batchsize = 512:  41.72621000000001 mJ\n",
      "Average Energy Consumption for MBN_V1, pruning_fraction = 0.2:  41.951269999999994 mJ\n",
      "Average Energy Consumption for MBN_V1, pruning_fraction = 0.2, batchsize = 128:  41.71340000000001 mJ\n",
      "Average Energy Consumption for MBN_V1, pruning_fraction = 0.2, batchsize = 512:  41.45753 mJ\n"
     ]
    }
   ],
   "source": [
    "# calculate average energy consumption for each model (ie. average over all 10000 test dataset images)\n",
    "\n",
    "total_energy = mobilenet_data_1['Power'].sum() / 10000 * 1000\n",
    "avg_energy = total_energy/10000 * 1000\n",
    "print(\"Average Energy Consumption for MBN_V1, pruning_fraction = 0.1: \", avg_energy, \"mJ\")\n",
    "\n",
    "total_energy = mobilenet_data_1128['Power'].sum() / 10000 * 1000\n",
    "avg_energy = total_energy/10000 * 1000\n",
    "print(\"Average Energy Consumption for MBN_V1, pruning_fraction = 0.1, batchsize = 128: \", avg_energy, \"mJ\")\n",
    "\n",
    "total_energy = mobilenet_data_1512['Power'].sum() / 10000 * 1000\n",
    "avg_energy = total_energy/10000 * 1000\n",
    "print(\"Average Energy Consumption for MBN_V1, pruning_fraction = 0.1, batchsize = 512: \", avg_energy, \"mJ\")\n",
    "\n",
    "total_energy = mobilenet_data_2['Power'].sum() / 10000 * 1000\n",
    "avg_energy = total_energy/10000 * 1000\n",
    "print(\"Average Energy Consumption for MBN_V1, pruning_fraction = 0.2: \", avg_energy, \"mJ\")\n",
    "\n",
    "total_energy = mobilenet_data_2128['Power'].sum() / 10000 * 1000\n",
    "avg_energy = total_energy/10000 * 1000\n",
    "print(\"Average Energy Consumption for MBN_V1, pruning_fraction = 0.2, batchsize = 128: \", avg_energy, \"mJ\")\n",
    "\n",
    "total_energy = mobilenet_data_2512['Power'].sum() / 10000 * 1000\n",
    "avg_energy = total_energy/10000 * 1000\n",
    "print(\"Average Energy Consumption for MBN_V1, pruning_fraction = 0.2, batchsize = 512: \", avg_energy, \"mJ\")"
   ]
  },
  {
   "cell_type": "code",
   "execution_count": 8,
   "id": "0a27f496",
   "metadata": {},
   "outputs": [
    {
     "name": "stdout",
     "output_type": "stream",
     "text": [
      "Max Power Consumption for MBN_V1, pruning_fraction = 0.1:  4.477 W\n",
      "Max Power Consumption for MBN_V1, pruning_fraction = 0.1, batchsize = 128:  4.454 W\n",
      "Max Power Consumption for MBN_V1, pruning_fraction = 0.1, batchsize = 512:  4.45 W\n",
      "Max Power Consumption for MBN_V1, pruning_fraction = 0.2:  4.458 W\n",
      "Max Power Consumption for MBN_V1, pruning_fraction = 0.2, batchsize = 128:  4.496 W\n",
      "Max Power Consumption for MBN_V1, pruning_fraction = 0.2, batchsize = 512:  4.462 W\n"
     ]
    }
   ],
   "source": [
    "# find max power consumption for each model \n",
    "\n",
    "max_power = mobilenet_data_1['Power'].max()\n",
    "print(\"Max Power Consumption for MBN_V1, pruning_fraction = 0.1: \", max_power, \"W\")\n",
    "\n",
    "max_power = mobilenet_data_1128['Power'].max()\n",
    "print(\"Max Power Consumption for MBN_V1, pruning_fraction = 0.1, batchsize = 128: \", max_power, \"W\")\n",
    "\n",
    "max_power = mobilenet_data_1512['Power'].max()\n",
    "print(\"Max Power Consumption for MBN_V1, pruning_fraction = 0.1, batchsize = 512: \", max_power, \"W\")\n",
    "\n",
    "max_power = mobilenet_data_2['Power'].max()\n",
    "print(\"Max Power Consumption for MBN_V1, pruning_fraction = 0.2: \", max_power, \"W\")\n",
    "\n",
    "max_power = mobilenet_data_2128['Power'].max()\n",
    "print(\"Max Power Consumption for MBN_V1, pruning_fraction = 0.2, batchsize = 128: \", max_power, \"W\")\n",
    "\n",
    "max_power = mobilenet_data_2512['Power'].max()\n",
    "print(\"Max Power Consumption for MBN_V1, pruning_fraction = 0.2, batchsize = 512: \", max_power, \"W\")"
   ]
  }
 ],
 "metadata": {
  "kernelspec": {
   "display_name": "Python 3",
   "language": "python",
   "name": "python3"
  },
  "language_info": {
   "codemirror_mode": {
    "name": "ipython",
    "version": 3
   },
   "file_extension": ".py",
   "mimetype": "text/x-python",
   "name": "python",
   "nbconvert_exporter": "python",
   "pygments_lexer": "ipython3",
   "version": "3.8.8"
  }
 },
 "nbformat": 4,
 "nbformat_minor": 5
}
