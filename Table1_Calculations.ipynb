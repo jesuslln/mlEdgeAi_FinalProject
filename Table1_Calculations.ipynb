{
 "cells": [
  {
   "cell_type": "code",
   "execution_count": 2,
   "id": "dfa4197e",
   "metadata": {},
   "outputs": [],
   "source": [
    "import pandas as pd\n",
    "import matplotlib.pyplot as plt\n",
    "import numpy as np"
   ]
  },
  {
   "cell_type": "code",
   "execution_count": 8,
   "id": "3a41247b",
   "metadata": {},
   "outputs": [],
   "source": [
    "mobilenet_data_0 = pd.read_csv(\"onnx_rpi_readings/mobilenet_readings_0.05.csv\", index_col=0)\n",
    "mobilenet_data_1 = pd.read_csv(\"onnx_rpi_readings/mobilenet_readings_0.1.csv\", index_col=0)\n",
    "mobilenet_data_2 = pd.read_csv(\"onnx_rpi_readings/mobilenet_readings_0.2.csv\", index_col=0)\n",
    "mobilenet_data_3 = pd.read_csv(\"onnx_rpi_readings/mobilenet_readings_0.3.csv\", index_col=0)\n",
    "mobilenet_data_4 = pd.read_csv(\"onnx_rpi_readings/mobilenet_readings_0.4.csv\", index_col=0)\n",
    "mobilenet_data_5 = pd.read_csv(\"onnx_rpi_readings/mobilenet_readings_0.5.csv\", index_col=0)"
   ]
  },
  {
   "cell_type": "code",
   "execution_count": 13,
   "id": "e74fa985",
   "metadata": {},
   "outputs": [
    {
     "name": "stdout",
     "output_type": "stream",
     "text": [
      "Average Energy Consumption for MBN_V1, pruning_fraction = 0.05:  1.2603807 mJ\n",
      "Average Energy Consumption for MBN_V1, pruning_fraction = 0.1:  1.2544235 mJ\n",
      "Average Energy Consumption for MBN_V1, pruning_fraction = 0.2:  1.0456234 mJ\n",
      "Average Energy Consumption for MBN_V1, pruning_fraction = 0.3:  0.8294637999999999 mJ\n",
      "Average Energy Consumption for MBN_V1, pruning_fraction = 0.4:  0.7366638999999999 mJ\n",
      "Average Energy Consumption for MBN_V1, pruning_fraction = 0.5:  0.6190004 mJ\n"
     ]
    }
   ],
   "source": [
    "# calculate average energy consumption for each model (ie. average over all 10000 test dataset images)\n",
    "\n",
    "total_energy = mobilenet_data_0['Power'].sum()\n",
    "avg_energy = total_energy/10000\n",
    "print(\"Average Energy Consumption for MBN_V1, pruning_fraction = 0.05: \", avg_energy, \"mJ\")\n",
    "\n",
    "total_energy = mobilenet_data_1['Power'].sum()\n",
    "avg_energy = total_energy/10000\n",
    "print(\"Average Energy Consumption for MBN_V1, pruning_fraction = 0.1: \", avg_energy, \"mJ\")\n",
    "\n",
    "total_energy = mobilenet_data_2['Power'].sum()\n",
    "avg_energy = total_energy/10000\n",
    "print(\"Average Energy Consumption for MBN_V1, pruning_fraction = 0.2: \", avg_energy, \"mJ\")\n",
    "\n",
    "total_energy = mobilenet_data_3['Power'].sum()\n",
    "avg_energy = total_energy/10000\n",
    "print(\"Average Energy Consumption for MBN_V1, pruning_fraction = 0.3: \", avg_energy, \"mJ\")\n",
    "\n",
    "total_energy = mobilenet_data_4['Power'].sum()\n",
    "avg_energy = total_energy/10000\n",
    "print(\"Average Energy Consumption for MBN_V1, pruning_fraction = 0.4: \", avg_energy, \"mJ\")\n",
    "\n",
    "total_energy = mobilenet_data_5['Power'].sum()\n",
    "avg_energy = total_energy/10000\n",
    "print(\"Average Energy Consumption for MBN_V1, pruning_fraction = 0.5: \", avg_energy, \"mJ\")"
   ]
  },
  {
   "cell_type": "code",
   "execution_count": 15,
   "id": "06b024fa",
   "metadata": {},
   "outputs": [
    {
     "name": "stdout",
     "output_type": "stream",
     "text": [
      "Max Power Consumption for MBN_V1, pruning_fraction = 0.05:  4.37 W\n",
      "Max Power Consumption for MBN_V1, pruning_fraction = 0.1:  4.37 W\n",
      "Max Power Consumption for MBN_V1, pruning_fraction = 0.2:  4.366 W\n",
      "Max Power Consumption for MBN_V1, pruning_fraction = 0.3:  4.504 W\n",
      "Max Power Consumption for MBN_V1, pruning_fraction = 0.4:  4.317 W\n",
      "Max Power Consumption for MBN_V1, pruning_fraction = 0.5:  4.313 W\n"
     ]
    }
   ],
   "source": [
    "# find max power consumption for each model \n",
    "\n",
    "max_power = mobilenet_data_0['Power'].max()\n",
    "print(\"Max Power Consumption for MBN_V1, pruning_fraction = 0.05: \", max_power, \"W\")\n",
    "\n",
    "max_power = mobilenet_data_1['Power'].max()\n",
    "print(\"Max Power Consumption for MBN_V1, pruning_fraction = 0.1: \", max_power, \"W\")\n",
    "\n",
    "max_power = mobilenet_data_2['Power'].max()\n",
    "print(\"Max Power Consumption for MBN_V1, pruning_fraction = 0.2: \", max_power, \"W\")\n",
    "\n",
    "max_power = mobilenet_data_3['Power'].max()\n",
    "print(\"Max Power Consumption for MBN_V1, pruning_fraction = 0.3: \", max_power, \"W\")\n",
    "\n",
    "max_power = mobilenet_data_4['Power'].max()\n",
    "print(\"Max Power Consumption for MBN_V1, pruning_fraction = 0.4: \", max_power, \"W\")\n",
    "\n",
    "max_power = mobilenet_data_5['Power'].max()\n",
    "print(\"Max Power Consumption for MBN_V1, pruning_fraction = 0.5: \", max_power, \"W\")"
   ]
  }
 ],
 "metadata": {
  "kernelspec": {
   "display_name": "Python 3",
   "language": "python",
   "name": "python3"
  },
  "language_info": {
   "codemirror_mode": {
    "name": "ipython",
    "version": 3
   },
   "file_extension": ".py",
   "mimetype": "text/x-python",
   "name": "python",
   "nbconvert_exporter": "python",
   "pygments_lexer": "ipython3",
   "version": "3.8.8"
  }
 },
 "nbformat": 4,
 "nbformat_minor": 5
}
