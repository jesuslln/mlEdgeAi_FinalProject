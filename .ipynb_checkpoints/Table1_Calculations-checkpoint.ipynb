{
 "cells": [
  {
   "cell_type": "code",
   "execution_count": 2,
   "id": "001c604e",
   "metadata": {},
   "outputs": [],
   "source": [
    "import pandas as pd\n",
    "import matplotlib.pyplot as plt\n",
    "import numpy as np"
   ]
  },
  {
   "cell_type": "code",
   "execution_count": 8,
   "id": "09addd30",
   "metadata": {},
   "outputs": [],
   "source": [
    "mobilenet_data_0 = pd.read_csv(\"onnx_rpi_readings/mobilenet_readings_0.05.csv\", index_col=0)\n",
    "mobilenet_data_1 = pd.read_csv(\"onnx_rpi_readings/mobilenet_readings_0.1.csv\", index_col=0)\n",
    "mobilenet_data_2 = pd.read_csv(\"onnx_rpi_readings/mobilenet_readings_0.2.csv\", index_col=0)\n",
    "mobilenet_data_3 = pd.read_csv(\"onnx_rpi_readings/mobilenet_readings_0.3.csv\", index_col=0)\n",
    "mobilenet_data_4 = pd.read_csv(\"onnx_rpi_readings/mobilenet_readings_0.4.csv\", index_col=0)\n",
    "mobilenet_data_5 = pd.read_csv(\"onnx_rpi_readings/mobilenet_readings_0.5.csv\", index_col=0)"
   ]
  },
  {
   "cell_type": "code",
   "execution_count": 17,
   "id": "fda6616f",
   "metadata": {},
   "outputs": [
    {
     "name": "stdout",
     "output_type": "stream",
     "text": [
      "Average Energy Consumption for MBN_V1, pruning_fraction = 0.05:  1260.3807 mJ\n",
      "Average Energy Consumption for MBN_V1, pruning_fraction = 0.1:  1254.4234999999999 mJ\n",
      "Average Energy Consumption for MBN_V1, pruning_fraction = 0.2:  1045.6234 mJ\n",
      "Average Energy Consumption for MBN_V1, pruning_fraction = 0.3:  829.4637999999999 mJ\n",
      "Average Energy Consumption for MBN_V1, pruning_fraction = 0.4:  736.6638999999999 mJ\n",
      "Average Energy Consumption for MBN_V1, pruning_fraction = 0.5:  619.0004 mJ\n"
     ]
    }
   ],
   "source": [
    "# calculate average energy consumption for each model (ie. average over all 10000 test dataset images)\n",
    "\n",
    "total_energy = mobilenet_data_0['Power'].sum()\n",
    "avg_energy = total_energy/10000 * 1000  # divided by 10000 for each image, but unit is in mJ so multiply by 1000\n",
    "print(\"Average Energy Consumption for MBN_V1, pruning_fraction = 0.05: \", avg_energy, \"mJ\")\n",
    "\n",
    "total_energy = mobilenet_data_1['Power'].sum()\n",
    "avg_energy = total_energy/10000 * 1000\n",
    "print(\"Average Energy Consumption for MBN_V1, pruning_fraction = 0.1: \", avg_energy, \"mJ\")\n",
    "\n",
    "total_energy = mobilenet_data_2['Power'].sum()\n",
    "avg_energy = total_energy/10000 * 1000\n",
    "print(\"Average Energy Consumption for MBN_V1, pruning_fraction = 0.2: \", avg_energy, \"mJ\")\n",
    "\n",
    "total_energy = mobilenet_data_3['Power'].sum()\n",
    "avg_energy = total_energy/10000 * 1000\n",
    "print(\"Average Energy Consumption for MBN_V1, pruning_fraction = 0.3: \", avg_energy, \"mJ\")\n",
    "\n",
    "total_energy = mobilenet_data_4['Power'].sum()\n",
    "avg_energy = total_energy/10000 * 1000\n",
    "print(\"Average Energy Consumption for MBN_V1, pruning_fraction = 0.4: \", avg_energy, \"mJ\")\n",
    "\n",
    "total_energy = mobilenet_data_5['Power'].sum()\n",
    "avg_energy = total_energy/10000 * 1000\n",
    "print(\"Average Energy Consumption for MBN_V1, pruning_fraction = 0.5: \", avg_energy, \"mJ\")"
   ]
  },
  {
   "cell_type": "code",
   "execution_count": 18,
   "id": "d3e4f672",
   "metadata": {},
   "outputs": [
    {
     "name": "stdout",
     "output_type": "stream",
     "text": [
      "Max Power Consumption for MBN_V1, pruning_fraction = 0.05:  4.37 W\n",
      "Max Power Consumption for MBN_V1, pruning_fraction = 0.1:  4.37 W\n",
      "Max Power Consumption for MBN_V1, pruning_fraction = 0.2:  4.366 W\n",
      "Max Power Consumption for MBN_V1, pruning_fraction = 0.3:  4.504 W\n",
      "Max Power Consumption for MBN_V1, pruning_fraction = 0.4:  4.317 W\n",
      "Max Power Consumption for MBN_V1, pruning_fraction = 0.5:  4.313 W\n"
     ]
    }
   ],
   "source": [
    "# find max power consumption for each model \n",
    "\n",
    "max_power = mobilenet_data_0['Power'].max()\n",
    "print(\"Max Power Consumption for MBN_V1, pruning_fraction = 0.05: \", max_power, \"W\")\n",
    "\n",
    "max_power = mobilenet_data_1['Power'].max()\n",
    "print(\"Max Power Consumption for MBN_V1, pruning_fraction = 0.1: \", max_power, \"W\")\n",
    "\n",
    "max_power = mobilenet_data_2['Power'].max()\n",
    "print(\"Max Power Consumption for MBN_V1, pruning_fraction = 0.2: \", max_power, \"W\")\n",
    "\n",
    "max_power = mobilenet_data_3['Power'].max()\n",
    "print(\"Max Power Consumption for MBN_V1, pruning_fraction = 0.3: \", max_power, \"W\")\n",
    "\n",
    "max_power = mobilenet_data_4['Power'].max()\n",
    "print(\"Max Power Consumption for MBN_V1, pruning_fraction = 0.4: \", max_power, \"W\")\n",
    "\n",
    "max_power = mobilenet_data_5['Power'].max()\n",
    "print(\"Max Power Consumption for MBN_V1, pruning_fraction = 0.5: \", max_power, \"W\")"
   ]
  },
  {
   "cell_type": "code",
   "execution_count": 6,
   "id": "03a87869",
   "metadata": {},
   "outputs": [
    {
     "name": "stdout",
     "output_type": "stream",
     "text": [
      "(Prune 0.05) Percentage of Parameters Compared to the Original: 90.20 \n",
      "(Prune 0.1) Percentage of Parameters Compared to the Original: 81.01 \n",
      "(Prune 0.2) Percentage of Parameters Compared to the Original: 64.24 \n",
      "(Prune 0.3) Percentage of Parameters Compared to the Original: 49.39 \n",
      "(Prune 0.4) Percentage of Parameters Compared to the Original: 36.51 \n",
      "(Prune 0.5) Percentage of Parameters Compared to the Original: 25.60 \n"
     ]
    }
   ],
   "source": [
    "parameters_original = 3217226\n",
    "parameters_data0 = 2902069\n",
    "parameters_data1 = 2606173\n",
    "parameters_data2 = 2066884\n",
    "parameters_data3 = 1588917\n",
    "parameters_data4 = 1174647\n",
    "parameters_data5 = 823722\n",
    "\n",
    "print(\"(Prune 0.05) Percentage of Parameters Compared to the Original: %2.2f \" %\n",
    "      (100*parameters_data0/parameters_original))\n",
    "print(\"(Prune 0.1) Percentage of Parameters Compared to the Original: %2.2f \" %\n",
    "      (100*parameters_data1/parameters_original))\n",
    "print(\"(Prune 0.2) Percentage of Parameters Compared to the Original: %2.2f \" %\n",
    "      (100*parameters_data2/parameters_original))\n",
    "print(\"(Prune 0.3) Percentage of Parameters Compared to the Original: %2.2f \" %\n",
    "      (100*parameters_data3/parameters_original))\n",
    "print(\"(Prune 0.4) Percentage of Parameters Compared to the Original: %2.2f \" %\n",
    "      (100*parameters_data4/parameters_original))\n",
    "print(\"(Prune 0.5) Percentage of Parameters Compared to the Original: %2.2f \" %\n",
    "      (100*parameters_data5/parameters_original))\n"
   ]
  }
 ],
 "metadata": {
  "kernelspec": {
   "display_name": "Python 3 (ipykernel)",
   "language": "python",
   "name": "python3"
  },
  "language_info": {
   "codemirror_mode": {
    "name": "ipython",
    "version": 3
   },
   "file_extension": ".py",
   "mimetype": "text/x-python",
   "name": "python",
   "nbconvert_exporter": "python",
   "pygments_lexer": "ipython3",
   "version": "3.9.13"
  }
 },
 "nbformat": 4,
 "nbformat_minor": 5
}
