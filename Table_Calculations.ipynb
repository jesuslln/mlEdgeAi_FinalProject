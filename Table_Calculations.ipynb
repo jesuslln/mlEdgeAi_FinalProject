{
 "cells": [
  {
   "cell_type": "code",
   "execution_count": 1,
   "id": "4b3923ad",
   "metadata": {},
   "outputs": [],
   "source": [
    "import pandas as pd\n",
    "import matplotlib.pyplot as plt\n",
    "import numpy as np"
   ]
  },
  {
   "cell_type": "code",
   "execution_count": 4,
   "id": "fe8ea268",
   "metadata": {},
   "outputs": [],
   "source": [
    "# unpruned model, top 5 (in terms of accuracy) models from M1 quantized \n",
    "\n",
    "mobilenet_data_baseline = pd.read_csv(\"quantized_readings/mobilenet_readings_baseline.csv\", index_col=0)\n",
    "mobilenet_data_0 = pd.read_csv(\"quantized_readings/mobilenet_readings_0.05.csv\", index_col=0)\n",
    "mobilenet_data_1 = pd.read_csv(\"quantized_readings/mobilenet_readings_0.1.csv\", index_col=0)\n",
    "mobilenet_data_2 = pd.read_csv(\"quantized_readings/mobilenet_readings_0.2.csv\", index_col=0)\n",
    "mobilenet_data_3 = pd.read_csv(\"quantized_readings/mobilenet_readings_0.3.csv\", index_col=0)\n",
    "mobilenet_data_4 = pd.read_csv(\"quantized_readings/mobilenet_readings_0.4.csv\", index_col=0)"
   ]
  },
  {
   "cell_type": "code",
   "execution_count": 7,
   "id": "3f4b522b",
   "metadata": {},
   "outputs": [
    {
     "name": "stdout",
     "output_type": "stream",
     "text": [
      "Average Energy Consumption for MBN_V1, unpruned:  1267.8418000000001 mJ\n",
      "Average Energy Consumption for MBN_V1, pruning_fraction = 0.05: 425.53560000000004 mJ\n",
      "Average Energy Consumption for MBN_V1, pruning_fraction = 0.1:  421.75679999999994 mJ\n",
      "Average Energy Consumption for MBN_V1, pruning_fraction = 0.2:  416.9025 mJ\n",
      "Average Energy Consumption for MBN_V1, pruning_fraction = 0.3:  314.5765 mJ\n",
      "Average Energy Consumption for MBN_V1, pruning_fraction = 0.4:  407.6551 mJ\n"
     ]
    }
   ],
   "source": [
    "# calculate average energy consumption for each model (ie. average over all 10000 test dataset images)\n",
    "\n",
    "total_energy = mobilenet_data_baseline['Power'].sum()\n",
    "avg_energy = total_energy/10000 * 1000  # divided by 10000 for each image, but unit is in mJ so multiply by 1000\n",
    "print(\"Average Energy Consumption for MBN_V1, unpruned: \", avg_energy, \"mJ\")\n",
    "\n",
    "total_energy = mobilenet_data_0['Power'].sum()\n",
    "avg_energy = total_energy/10000 * 1000\n",
    "print(\"Average Energy Consumption for MBN_V1, pruning_fraction = 0.05:\", avg_energy, \"mJ\")\n",
    "\n",
    "total_energy = mobilenet_data_1['Power'].sum()\n",
    "avg_energy = total_energy/10000 * 1000\n",
    "print(\"Average Energy Consumption for MBN_V1, pruning_fraction = 0.1: \", avg_energy, \"mJ\")\n",
    "\n",
    "total_energy = mobilenet_data_2['Power'].sum()\n",
    "avg_energy = total_energy/10000 * 1000\n",
    "print(\"Average Energy Consumption for MBN_V1, pruning_fraction = 0.2: \", avg_energy, \"mJ\")\n",
    "\n",
    "total_energy = mobilenet_data_3['Power'].sum()\n",
    "avg_energy = total_energy/10000 * 1000\n",
    "print(\"Average Energy Consumption for MBN_V1, pruning_fraction = 0.3: \", avg_energy, \"mJ\")\n",
    "\n",
    "total_energy = mobilenet_data_4['Power'].sum()\n",
    "avg_energy = total_energy/10000 * 1000\n",
    "print(\"Average Energy Consumption for MBN_V1, pruning_fraction = 0.4: \", avg_energy, \"mJ\")"
   ]
  },
  {
   "cell_type": "code",
   "execution_count": 8,
   "id": "0a27f496",
   "metadata": {},
   "outputs": [
    {
     "name": "stdout",
     "output_type": "stream",
     "text": [
      "Max Power Consumption for MBN_V1, unpruned:  4.496 W\n",
      "Max Power Consumption for MBN_V1, pruning_fraction = 0.05:  4.481 W\n",
      "Max Power Consumption for MBN_V1, pruning_fraction = 0.1:  4.481 W\n",
      "Max Power Consumption for MBN_V1, pruning_fraction = 0.2:  4.47 W\n",
      "Max Power Consumption for MBN_V1, pruning_fraction = 0.3:  4.439 W\n",
      "Max Power Consumption for MBN_V1, pruning_fraction = 0.4:  4.366 W\n"
     ]
    }
   ],
   "source": [
    "# find max power consumption for each model \n",
    "\n",
    "max_power = mobilenet_data_baseline['Power'].max()\n",
    "print(\"Max Power Consumption for MBN_V1, unpruned: \", max_power, \"W\")\n",
    "\n",
    "max_power = mobilenet_data_0['Power'].max()\n",
    "print(\"Max Power Consumption for MBN_V1, pruning_fraction = 0.05: \", max_power, \"W\")\n",
    "\n",
    "max_power = mobilenet_data_1['Power'].max()\n",
    "print(\"Max Power Consumption for MBN_V1, pruning_fraction = 0.1: \", max_power, \"W\")\n",
    "\n",
    "max_power = mobilenet_data_2['Power'].max()\n",
    "print(\"Max Power Consumption for MBN_V1, pruning_fraction = 0.2: \", max_power, \"W\")\n",
    "\n",
    "max_power = mobilenet_data_3['Power'].max()\n",
    "print(\"Max Power Consumption for MBN_V1, pruning_fraction = 0.3: \", max_power, \"W\")\n",
    "\n",
    "max_power = mobilenet_data_4['Power'].max()\n",
    "print(\"Max Power Consumption for MBN_V1, pruning_fraction = 0.4: \", max_power, \"W\")"
   ]
  },
  {
   "cell_type": "code",
   "execution_count": 10,
   "id": "e4036b0a",
   "metadata": {},
   "outputs": [
    {
     "name": "stdout",
     "output_type": "stream",
     "text": [
      "(Prune 0.05) Percentage of Parameters Compared to the Original: 90.20 \n",
      "(Prune 0.1) Percentage of Parameters Compared to the Original: 81.01 \n",
      "(Prune 0.2) Percentage of Parameters Compared to the Original: 64.24 \n",
      "(Prune 0.3) Percentage of Parameters Compared to the Original: 49.39 \n",
      "(Prune 0.4) Percentage of Parameters Compared to the Original: 36.51 \n",
      "(Prune 0.5) Percentage of Parameters Compared to the Original: 25.60 \n"
     ]
    }
   ],
   "source": [
    "# number params for each model \n",
    "\n",
    "parameters_original = 3217226\n",
    "parameters_data0 = 2902069\n",
    "parameters_data1 = 2606173\n",
    "parameters_data2 = 2066884\n",
    "parameters_data3 = 1588917\n",
    "parameters_data4 = 1174647\n",
    "parameters_data5 = 823722\n",
    "\n",
    "print(\"(Prune 0.05) Percentage of Parameters Compared to the Original: %2.2f \" %\n",
    "      (100*parameters_data0/parameters_original))\n",
    "print(\"(Prune 0.1) Percentage of Parameters Compared to the Original: %2.2f \" %\n",
    "      (100*parameters_data1/parameters_original))\n",
    "print(\"(Prune 0.2) Percentage of Parameters Compared to the Original: %2.2f \" %\n",
    "      (100*parameters_data2/parameters_original))\n",
    "print(\"(Prune 0.3) Percentage of Parameters Compared to the Original: %2.2f \" %\n",
    "      (100*parameters_data3/parameters_original))\n",
    "print(\"(Prune 0.4) Percentage of Parameters Compared to the Original: %2.2f \" %\n",
    "      (100*parameters_data4/parameters_original))\n",
    "print(\"(Prune 0.5) Percentage of Parameters Compared to the Original: %2.2f \" %\n",
    "      (100*parameters_data5/parameters_original))"
   ]
  }
 ],
 "metadata": {
  "kernelspec": {
   "display_name": "Python 3",
   "language": "python",
   "name": "python3"
  },
  "language_info": {
   "codemirror_mode": {
    "name": "ipython",
    "version": 3
   },
   "file_extension": ".py",
   "mimetype": "text/x-python",
   "name": "python",
   "nbconvert_exporter": "python",
   "pygments_lexer": "ipython3",
   "version": "3.8.8"
  }
 },
 "nbformat": 4,
 "nbformat_minor": 5
}
